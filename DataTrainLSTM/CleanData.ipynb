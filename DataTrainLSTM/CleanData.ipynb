{
 "cells": [
  {
   "cell_type": "code",
   "execution_count": 1,
   "metadata": {},
   "outputs": [],
   "source": [
    "import os\n",
    "import pandas as pd"
   ]
  },
  {
   "cell_type": "code",
   "execution_count": 2,
   "metadata": {},
   "outputs": [],
   "source": [
    "directory = './'\n",
    "csv_files = [file for file in os.listdir(directory) if file.endswith('.csv')]"
   ]
  },
  {
   "cell_type": "code",
   "execution_count": 3,
   "metadata": {},
   "outputs": [],
   "source": [
    "\n",
    "for file in csv_files:\n",
    "    file_path = os.path.join(directory, file)\n",
    "    \n",
    "    # Read the CSV file into a DataFrame\n",
    "    df = pd.read_csv(file_path)\n",
    "    \n",
    "    symbol = file.split(' ')[0].split('.')[0]\n",
    "    # Rename the 'Price' column to 'Close' if 'Price' exists\n",
    "    if 'Price' in df.columns:\n",
    "        df.rename(columns={'Price': 'Close'}, inplace=True)\n",
    "    \n",
    "    # Remove 'Vol.' and 'Change %' columns if they exist\n",
    "    columns_to_remove = ['Vol.', 'Change %']\n",
    "    df.drop(columns=[col for col in columns_to_remove if col in df.columns], inplace=True)\n",
    "    \n",
    "    # Drop rows with any null values\n",
    "    df_cleaned = df.dropna()\n",
    "    \n",
    "    # Convert the 'Date' column to datetime format\n",
    "    df_cleaned['Date'] = pd.to_datetime(df_cleaned['Date'])\n",
    "    \n",
    "    # Convert 'Close' and 'Volume' columns to double (float) format\n",
    "    if 'Close' in df_cleaned.columns and df_cleaned['Close'].dtype == 'object':\n",
    "        df_cleaned['Close'] = df_cleaned['Close'].str.replace(',', '').astype(float)\n",
    "    if 'High' in df_cleaned.columns and df_cleaned['High'].dtype == 'object':\n",
    "        df_cleaned['High'] = df_cleaned['High'].str.replace(',', '').astype(float)\n",
    "    if 'Low' in df_cleaned.columns and df_cleaned['Low'].dtype == 'object':\n",
    "        df_cleaned['Low'] = df_cleaned['Low'].str.replace(',', '').astype(float)\n",
    "    if 'Open' in df_cleaned.columns and df_cleaned['Open'].dtype == 'object':\n",
    "        df_cleaned['Open'] = df_cleaned['Open'].str.replace(',', '').astype(float)   \n",
    "    \n",
    "    # Sort the DataFrame by the 'Date' column\n",
    "    df_sorted = df_cleaned.sort_values(by='Date')\n",
    "\n",
    "        # Save the cleaned and sorted DataFrame back to CSV\n",
    "    df_sorted.to_csv(file_path, index=False)\n",
    "\n",
    "\n",
    "\n",
    "\n",
    "\n",
    "    "
   ]
  }
 ],
 "metadata": {
  "kernelspec": {
   "display_name": "venv",
   "language": "python",
   "name": "python3"
  },
  "language_info": {
   "codemirror_mode": {
    "name": "ipython",
    "version": 3
   },
   "file_extension": ".py",
   "mimetype": "text/x-python",
   "name": "python",
   "nbconvert_exporter": "python",
   "pygments_lexer": "ipython3",
   "version": "3.11.5"
  }
 },
 "nbformat": 4,
 "nbformat_minor": 2
}
