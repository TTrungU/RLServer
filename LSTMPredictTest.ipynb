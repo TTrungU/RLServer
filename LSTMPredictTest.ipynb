{
 "cells": [
  {
   "cell_type": "code",
   "execution_count": 52,
   "metadata": {},
   "outputs": [],
   "source": [
    "import pandas as pd\n",
    "import torch\n",
    "device = \"cuda\" if torch.cuda.is_available() else \"cpu\"\n",
    "import matplotlib.pyplot as plt\n",
    "import seaborn as sns\n",
    "import os\n",
    "from preprocessing import Feature_Extractor, data_preprocessing\n"
   ]
  },
  {
   "cell_type": "code",
   "execution_count": 53,
   "metadata": {},
   "outputs": [],
   "source": [
    "symbol = \"BID\"\n",
    "predictest = pd.read_csv(f'{symbol}_LSTMAttention_evaluate_result.csv')"
   ]
  },
  {
   "cell_type": "code",
   "execution_count": 54,
   "metadata": {},
   "outputs": [
    {
     "data": {
      "text/plain": [
       "Unnamed: 0     int64\n",
       "Date          object\n",
       "predicted     object\n",
       "dtype: object"
      ]
     },
     "execution_count": 54,
     "metadata": {},
     "output_type": "execute_result"
    }
   ],
   "source": [
    "predictest.dtypes"
   ]
  },
  {
   "cell_type": "code",
   "execution_count": 55,
   "metadata": {},
   "outputs": [],
   "source": [
    "def convert_to_float(x):\n",
    "    return float(x[0])"
   ]
  },
  {
   "cell_type": "code",
   "execution_count": 56,
   "metadata": {},
   "outputs": [
    {
     "data": {
      "text/plain": [
       "Unnamed: 0      int64\n",
       "Date           object\n",
       "predicted     float64\n",
       "dtype: object"
      ]
     },
     "execution_count": 56,
     "metadata": {},
     "output_type": "execute_result"
    }
   ],
   "source": [
    "if predictest['predicted'].apply(lambda x: isinstance(x, str)).any():\n",
    "    predictest['predicted'] = predictest['predicted'].apply(eval).apply(convert_to_float)\n",
    "predictest.dtypes"
   ]
  },
  {
   "cell_type": "code",
   "execution_count": 57,
   "metadata": {},
   "outputs": [],
   "source": [
    "#Lưu file mới\n",
    "predictest = predictest.drop(columns=['Unnamed: 0'], errors='ignore')\n",
    "output_file_path = os.path.join(f'{symbol}_LSTMAttention_evaluate_result.csv')\n",
    "predictest.to_csv(output_file_path, index=False)"
   ]
  },
  {
   "cell_type": "code",
   "execution_count": 58,
   "metadata": {},
   "outputs": [
    {
     "data": {
      "text/plain": [
       "<bound method NDFrame.head of             Date    Close     Open     High      Low\n",
       "0     2019-01-28  24414.4  24529.3  24758.9  24337.9\n",
       "1     2019-01-29  24261.4  24414.4  24414.4  24146.6\n",
       "2     2019-01-30  24261.4  24414.4  24682.3  24184.8\n",
       "3     2019-01-31  24108.3  24644.1  24644.1  24108.3\n",
       "4     2019-02-01  24184.8  24070.0  24376.2  24031.8\n",
       "...          ...      ...      ...      ...      ...\n",
       "1327  2024-05-27  48900.0  49400.0  49400.0  48550.0\n",
       "1328  2024-05-28  49100.0  49000.0  49200.0  48600.0\n",
       "1329  2024-05-29  48600.0  49450.0  49450.0  48600.0\n",
       "1330  2024-05-30  47700.0  48400.0  48500.0  47400.0\n",
       "1331  2024-05-31  47100.0  47700.0  48300.0  47100.0\n",
       "\n",
       "[1332 rows x 5 columns]>"
      ]
     },
     "execution_count": 58,
     "metadata": {},
     "output_type": "execute_result"
    }
   ],
   "source": [
    "df = pd.read_csv(f'DataTrainLSTM/{symbol}.csv')\n",
    "df.head\n"
   ]
  },
  {
   "cell_type": "code",
   "execution_count": 59,
   "metadata": {},
   "outputs": [],
   "source": [
    "# Hợp nhất hai tệp CSV theo cột Date\n",
    "df_merged = pd.merge(df, predictest, on='Date', how='left')\n",
    "df_merged['Close'] = df_merged['predicted'].combine_first(df_merged['Close'])\n",
    "df_merged.drop(columns=['predicted'], inplace=True)\n",
    "cutoff_date = '2024-05-17'\n",
    "df_filtered = df_merged[df_merged['Date'] <= cutoff_date]\n",
    "output_folder = 'PredictTestData'\n",
    "output_file_path = os.path.join(output_folder, f'{symbol}LSTMAttentionpredictions.csv')\n",
    "df_filtered.to_csv(output_file_path, index=False)"
   ]
  },
  {
   "cell_type": "code",
   "execution_count": null,
   "metadata": {},
   "outputs": [],
   "source": []
  }
 ],
 "metadata": {
  "kernelspec": {
   "display_name": "venv",
   "language": "python",
   "name": "python3"
  },
  "language_info": {
   "codemirror_mode": {
    "name": "ipython",
    "version": 3
   },
   "file_extension": ".py",
   "mimetype": "text/x-python",
   "name": "python",
   "nbconvert_exporter": "python",
   "pygments_lexer": "ipython3",
   "version": "3.11.5"
  }
 },
 "nbformat": 4,
 "nbformat_minor": 2
}
