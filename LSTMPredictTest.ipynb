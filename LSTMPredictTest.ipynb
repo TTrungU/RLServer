{
 "cells": [
  {
   "cell_type": "code",
   "execution_count": 1,
   "metadata": {},
   "outputs": [],
   "source": [
    "import pandas as pd\n",
    "import torch\n",
    "device = \"cuda\" if torch.cuda.is_available() else \"cpu\"\n",
    "import matplotlib.pyplot as plt\n",
    "import seaborn as sns\n",
    "import os\n",
    "from preprocessing import Feature_Extractor, data_preprocessing\n"
   ]
  },
  {
   "cell_type": "code",
   "execution_count": 2,
   "metadata": {},
   "outputs": [],
   "source": [
    "symbol = \"FPT\"\n",
    "predictest = pd.read_csv(f'{symbol}_LSTM_evaluate_result.csv')"
   ]
  },
  {
   "cell_type": "code",
   "execution_count": 3,
   "metadata": {},
   "outputs": [
    {
     "data": {
      "text/plain": [
       "Unnamed: 0     int64\n",
       "Date          object\n",
       "predicted     object\n",
       "dtype: object"
      ]
     },
     "execution_count": 3,
     "metadata": {},
     "output_type": "execute_result"
    }
   ],
   "source": [
    "predictest.dtypes"
   ]
  },
  {
   "cell_type": "code",
   "execution_count": 4,
   "metadata": {},
   "outputs": [],
   "source": [
    "def convert_to_float(x):\n",
    "    return float(x[0])"
   ]
  },
  {
   "cell_type": "code",
   "execution_count": 5,
   "metadata": {},
   "outputs": [
    {
     "data": {
      "text/plain": [
       "Unnamed: 0      int64\n",
       "Date           object\n",
       "predicted     float64\n",
       "dtype: object"
      ]
     },
     "execution_count": 5,
     "metadata": {},
     "output_type": "execute_result"
    }
   ],
   "source": [
    "if predictest['predicted'].apply(lambda x: isinstance(x, str)).any():\n",
    "    predictest['predicted'] = predictest['predicted'].apply(eval).apply(convert_to_float)\n",
    "predictest.dtypes"
   ]
  },
  {
   "cell_type": "code",
   "execution_count": 6,
   "metadata": {},
   "outputs": [],
   "source": [
    "#Lưu file mới\n",
    "predictest = predictest.drop(columns=['Unnamed: 0'], errors='ignore')\n",
    "output_file_path = os.path.join(f'{symbol}_LSTM_evaluate_result.csv')\n",
    "predictest.to_csv(output_file_path, index=False)"
   ]
  },
  {
   "cell_type": "code",
   "execution_count": 8,
   "metadata": {},
   "outputs": [
    {
     "data": {
      "text/plain": [
       "<bound method NDFrame.head of             Date     Close      Open      High       Low\n",
       "0     2019-01-28   21948.0   22156.5   22156.5   21948.0\n",
       "1     2019-01-29   22156.5   22104.4   22156.5   21895.8\n",
       "2     2019-01-30   22521.4   22156.5   22625.7   22104.4\n",
       "3     2019-01-31   22521.4   22573.6   22625.7   22365.0\n",
       "4     2019-02-01   22208.6   22521.4   22521.4   21635.2\n",
       "...          ...       ...       ...       ...       ...\n",
       "1327  2024-05-27  132800.0  133000.0  133500.0  130600.0\n",
       "1328  2024-05-28  137000.0  134000.0  137000.0  133100.0\n",
       "1329  2024-05-29  135700.0  137100.0  138200.0  134800.0\n",
       "1330  2024-05-30  135000.0  133800.0  135000.0  131900.0\n",
       "1331  2024-05-31  134600.0  135000.0  136800.0  133800.0\n",
       "\n",
       "[1332 rows x 5 columns]>"
      ]
     },
     "execution_count": 8,
     "metadata": {},
     "output_type": "execute_result"
    }
   ],
   "source": [
    "df = pd.read_csv(f'DataTrainLSTM/{symbol}.csv')\n",
    "df.head\n"
   ]
  },
  {
   "cell_type": "code",
   "execution_count": 9,
   "metadata": {},
   "outputs": [],
   "source": [
    "# Hợp nhất hai tệp CSV theo cột Date\n",
    "df_merged = pd.merge(df, predictest, on='Date', how='left')\n",
    "df_merged['Close'] = df_merged['predicted'].combine_first(df_merged['Close'])\n",
    "df_merged.drop(columns=['predicted'], inplace=True)\n",
    "cutoff_date = '2024-05-17'\n",
    "df_filtered = df_merged[df_merged['Date'] <= cutoff_date]\n",
    "output_folder = 'PredictTestData'\n",
    "output_file_path = os.path.join(output_folder, f'{symbol}LSTMpredictions.csv')\n",
    "df_filtered.to_csv(output_file_path, index=False)"
   ]
  },
  {
   "cell_type": "code",
   "execution_count": null,
   "metadata": {},
   "outputs": [],
   "source": []
  }
 ],
 "metadata": {
  "kernelspec": {
   "display_name": "venv",
   "language": "python",
   "name": "python3"
  },
  "language_info": {
   "codemirror_mode": {
    "name": "ipython",
    "version": 3
   },
   "file_extension": ".py",
   "mimetype": "text/x-python",
   "name": "python",
   "nbconvert_exporter": "python",
   "pygments_lexer": "ipython3",
   "version": "3.11.5"
  }
 },
 "nbformat": 4,
 "nbformat_minor": 2
}
