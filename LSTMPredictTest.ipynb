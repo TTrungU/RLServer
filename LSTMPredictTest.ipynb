{
 "cells": [
  {
   "cell_type": "code",
   "execution_count": 20,
   "metadata": {},
   "outputs": [],
   "source": [
    "import pandas as pd\n",
    "import torch\n",
    "device = \"cuda\" if torch.cuda.is_available() else \"cpu\"\n",
    "import matplotlib.pyplot as plt\n",
    "import seaborn as sns\n",
    "import os\n",
    "from preprocessing import Feature_Extractor, data_preprocessing\n"
   ]
  },
  {
   "cell_type": "code",
   "execution_count": 21,
   "metadata": {},
   "outputs": [],
   "source": [
    "symbol = \"FPT\"\n",
    "predictest = pd.read_csv(f'{symbol}_LSTM_evaluate_result.csv')"
   ]
  },
  {
   "cell_type": "code",
   "execution_count": 22,
   "metadata": {},
   "outputs": [
    {
     "data": {
      "text/plain": [
       "Date          object\n",
       "predicted    float64\n",
       "dtype: object"
      ]
     },
     "execution_count": 22,
     "metadata": {},
     "output_type": "execute_result"
    }
   ],
   "source": [
    "predictest.dtypes"
   ]
  },
  {
   "cell_type": "code",
   "execution_count": 23,
   "metadata": {},
   "outputs": [],
   "source": [
    "def convert_to_float(x):\n",
    "    return float(x[0])"
   ]
  },
  {
   "cell_type": "code",
   "execution_count": 33,
   "metadata": {},
   "outputs": [
    {
     "data": {
      "text/plain": [
       "Date          object\n",
       "predicted    float64\n",
       "dtype: object"
      ]
     },
     "execution_count": 33,
     "metadata": {},
     "output_type": "execute_result"
    }
   ],
   "source": [
    "if predictest['predicted'].apply(lambda x: isinstance(x, str)).any():\n",
    "    predictest['predicted'] = predictest['predicted'].apply(eval).apply(convert_to_float)\n",
    "predictest.dtypes"
   ]
  },
  {
   "cell_type": "code",
   "execution_count": 32,
   "metadata": {},
   "outputs": [],
   "source": [
    "#Lưu file mới\n",
    "#  predictest = predictest.drop(columns=['Unnamed: 0'], errors='ignore')\n",
    "# output_file_path = os.path.join(f'{symbol}_LSTM_evaluate_result.csv')\n",
    "# predictest.to_csv(output_file_path, index=False)"
   ]
  },
  {
   "cell_type": "code",
   "execution_count": 35,
   "metadata": {},
   "outputs": [
    {
     "data": {
      "text/plain": [
       "<bound method NDFrame.head of             Date     Close      Open      High       Low\n",
       "0     2014-01-20    9966.4    9870.5   10253.9    9870.5\n",
       "1     2014-01-21   10158.0    9966.4   10158.0    9870.5\n",
       "2     2014-01-22   10158.0   10253.9   10349.7    9966.4\n",
       "3     2014-01-23   10445.5   10158.0   10445.5   10062.2\n",
       "4     2014-01-24   10733.0   10541.4   10828.8   10349.7\n",
       "...          ...       ...       ...       ...       ...\n",
       "2589  2024-06-12  132000.0  127900.0  132700.0  127800.0\n",
       "2590  2024-06-13  130000.0  133700.0  133800.0  130000.0\n",
       "2591  2024-06-14  131000.0  130100.0  132600.0  129000.0\n",
       "2592  2024-06-17  128800.0  131000.0  131400.0  128500.0\n",
       "2593  2024-06-18  128500.0  128000.0  129700.0  128000.0\n",
       "\n",
       "[2594 rows x 5 columns]>"
      ]
     },
     "execution_count": 35,
     "metadata": {},
     "output_type": "execute_result"
    }
   ],
   "source": [
    "df = pd.read_csv(f'DataTraining/{symbol}.csv')\n",
    "df.head\n"
   ]
  },
  {
   "cell_type": "code",
   "execution_count": 39,
   "metadata": {},
   "outputs": [],
   "source": [
    "# Hợp nhất hai tệp CSV theo cột Date\n",
    "df_merged = pd.merge(df, predictest, on='Date', how='left')\n",
    "df_merged['Close'] = df_merged['predicted'].combine_first(df_merged['Close'])\n",
    "df_merged.drop(columns=['predicted'], inplace=True)\n",
    "output_folder = 'PredictTestData'\n",
    "output_file_path = os.path.join(output_folder, f'{symbol}predictions.csv')\n",
    "df_merged.to_csv(output_file_path, index=False)"
   ]
  },
  {
   "cell_type": "code",
   "execution_count": null,
   "metadata": {},
   "outputs": [],
   "source": []
  }
 ],
 "metadata": {
  "kernelspec": {
   "display_name": "venv",
   "language": "python",
   "name": "python3"
  },
  "language_info": {
   "codemirror_mode": {
    "name": "ipython",
    "version": 3
   },
   "file_extension": ".py",
   "mimetype": "text/x-python",
   "name": "python",
   "nbconvert_exporter": "python",
   "pygments_lexer": "ipython3",
   "version": "3.11.5"
  }
 },
 "nbformat": 4,
 "nbformat_minor": 2
}
